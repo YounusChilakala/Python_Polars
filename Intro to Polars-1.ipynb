{
 "cells": [
  {
   "cell_type": "code",
   "execution_count": 2,
   "id": "fbf7af32",
   "metadata": {},
   "outputs": [],
   "source": [
    "import polars as pl\n",
    "import pandas as pd\n",
    "import pyarrow"
   ]
  },
  {
   "cell_type": "code",
   "execution_count": 3,
   "id": "fde4cb5b",
   "metadata": {},
   "outputs": [
    {
     "data": {
      "text/html": [
       "<div><style>\n",
       ".dataframe > thead > tr > th,\n",
       ".dataframe > tbody > tr > td {\n",
       "  text-align: right;\n",
       "}\n",
       "</style>\n",
       "<small>shape: (45716, 10)</small><table border=\"1\" class=\"dataframe\"><thead><tr><th>name</th><th>id</th><th>nametype</th><th>recclass</th><th>mass (g)</th><th>fall</th><th>year</th><th>reclat</th><th>reclong</th><th>GeoLocation</th></tr><tr><td>str</td><td>i64</td><td>str</td><td>str</td><td>f64</td><td>str</td><td>i64</td><td>f64</td><td>f64</td><td>str</td></tr></thead><tbody><tr><td>&quot;Aachen&quot;</td><td>1</td><td>&quot;Valid&quot;</td><td>&quot;L5&quot;</td><td>21.0</td><td>&quot;Fell&quot;</td><td>1880</td><td>50.775</td><td>6.08333</td><td>&quot;(50.775, 6.083...</td></tr><tr><td>&quot;Aarhus&quot;</td><td>2</td><td>&quot;Valid&quot;</td><td>&quot;H6&quot;</td><td>720.0</td><td>&quot;Fell&quot;</td><td>1951</td><td>56.18333</td><td>10.23333</td><td>&quot;(56.18333, 10....</td></tr><tr><td>&quot;Abee&quot;</td><td>6</td><td>&quot;Valid&quot;</td><td>&quot;EH4&quot;</td><td>107000.0</td><td>&quot;Fell&quot;</td><td>1952</td><td>54.21667</td><td>-113.0</td><td>&quot;(54.21667, -11...</td></tr><tr><td>&quot;Acapulco&quot;</td><td>10</td><td>&quot;Valid&quot;</td><td>&quot;Acapulcoite&quot;</td><td>1914.0</td><td>&quot;Fell&quot;</td><td>1976</td><td>16.88333</td><td>-99.9</td><td>&quot;(16.88333, -99...</td></tr><tr><td>&quot;Achiras&quot;</td><td>370</td><td>&quot;Valid&quot;</td><td>&quot;L6&quot;</td><td>780.0</td><td>&quot;Fell&quot;</td><td>1902</td><td>-33.16667</td><td>-64.95</td><td>&quot;(-33.16667, -6...</td></tr><tr><td>&quot;Adhi Kot&quot;</td><td>379</td><td>&quot;Valid&quot;</td><td>&quot;EH4&quot;</td><td>4239.0</td><td>&quot;Fell&quot;</td><td>1919</td><td>32.1</td><td>71.8</td><td>&quot;(32.1, 71.8)&quot;</td></tr><tr><td>&quot;Adzhi-Bogdo (s...</td><td>390</td><td>&quot;Valid&quot;</td><td>&quot;LL3-6&quot;</td><td>910.0</td><td>&quot;Fell&quot;</td><td>1949</td><td>44.83333</td><td>95.16667</td><td>&quot;(44.83333, 95....</td></tr><tr><td>&quot;Agen&quot;</td><td>392</td><td>&quot;Valid&quot;</td><td>&quot;H5&quot;</td><td>30000.0</td><td>&quot;Fell&quot;</td><td>1814</td><td>44.21667</td><td>0.61667</td><td>&quot;(44.21667, 0.6...</td></tr><tr><td>&quot;Aguada&quot;</td><td>398</td><td>&quot;Valid&quot;</td><td>&quot;L6&quot;</td><td>1620.0</td><td>&quot;Fell&quot;</td><td>1930</td><td>-31.6</td><td>-65.23333</td><td>&quot;(-31.6, -65.23...</td></tr><tr><td>&quot;Aguila Blanca&quot;</td><td>417</td><td>&quot;Valid&quot;</td><td>&quot;L&quot;</td><td>1440.0</td><td>&quot;Fell&quot;</td><td>1920</td><td>-30.86667</td><td>-64.55</td><td>&quot;(-30.86667, -6...</td></tr><tr><td>&quot;Aioun el Atrou...</td><td>423</td><td>&quot;Valid&quot;</td><td>&quot;Diogenite-pm&quot;</td><td>1000.0</td><td>&quot;Fell&quot;</td><td>1974</td><td>16.39806</td><td>-9.57028</td><td>&quot;(16.39806, -9....</td></tr><tr><td>&quot;Aïr&quot;</td><td>424</td><td>&quot;Valid&quot;</td><td>&quot;L6&quot;</td><td>24000.0</td><td>&quot;Fell&quot;</td><td>1925</td><td>19.08333</td><td>8.38333</td><td>&quot;(19.08333, 8.3...</td></tr><tr><td>&hellip;</td><td>&hellip;</td><td>&hellip;</td><td>&hellip;</td><td>&hellip;</td><td>&hellip;</td><td>&hellip;</td><td>&hellip;</td><td>&hellip;</td><td>&hellip;</td></tr><tr><td>&quot;Zerga&quot;</td><td>30402</td><td>&quot;Valid&quot;</td><td>&quot;LL6&quot;</td><td>76.0</td><td>&quot;Found&quot;</td><td>1973</td><td>20.25</td><td>-12.68333</td><td>&quot;(20.25, -12.68...</td></tr><tr><td>&quot;Zerhamra&quot;</td><td>30403</td><td>&quot;Valid&quot;</td><td>&quot;Iron, IIIAB-an...</td><td>630000.0</td><td>&quot;Found&quot;</td><td>1967</td><td>29.85861</td><td>-2.645</td><td>&quot;(29.85861, -2....</td></tr><tr><td>&quot;Zerkaly&quot;</td><td>31354</td><td>&quot;Valid&quot;</td><td>&quot;H5&quot;</td><td>16000.0</td><td>&quot;Found&quot;</td><td>1956</td><td>52.13333</td><td>81.96667</td><td>&quot;(52.13333, 81....</td></tr><tr><td>&quot;Zhaoping&quot;</td><td>54609</td><td>&quot;Valid&quot;</td><td>&quot;Iron, IAB comp...</td><td>2e6</td><td>&quot;Found&quot;</td><td>1983</td><td>24.23333</td><td>111.18333</td><td>&quot;(24.23333, 111...</td></tr><tr><td>&quot;Zhigansk&quot;</td><td>30405</td><td>&quot;Valid&quot;</td><td>&quot;Iron, IIIAB&quot;</td><td>900000.0</td><td>&quot;Found&quot;</td><td>1966</td><td>68.0</td><td>128.3</td><td>&quot;(68.0, 128.3)&quot;</td></tr><tr><td>&quot;Zhongxiang&quot;</td><td>30406</td><td>&quot;Valid&quot;</td><td>&quot;Iron&quot;</td><td>100000.0</td><td>&quot;Found&quot;</td><td>1981</td><td>31.2</td><td>112.5</td><td>&quot;(31.2, 112.5)&quot;</td></tr><tr><td>&quot;Zillah 001&quot;</td><td>31355</td><td>&quot;Valid&quot;</td><td>&quot;L6&quot;</td><td>1475.0</td><td>&quot;Found&quot;</td><td>1990</td><td>29.037</td><td>17.0185</td><td>&quot;(29.037, 17.01...</td></tr><tr><td>&quot;Zillah 002&quot;</td><td>31356</td><td>&quot;Valid&quot;</td><td>&quot;Eucrite&quot;</td><td>172.0</td><td>&quot;Found&quot;</td><td>1990</td><td>29.037</td><td>17.0185</td><td>&quot;(29.037, 17.01...</td></tr><tr><td>&quot;Zinder&quot;</td><td>30409</td><td>&quot;Valid&quot;</td><td>&quot;Pallasite, ung...</td><td>46.0</td><td>&quot;Found&quot;</td><td>1999</td><td>13.78333</td><td>8.96667</td><td>&quot;(13.78333, 8.9...</td></tr><tr><td>&quot;Zlin&quot;</td><td>30410</td><td>&quot;Valid&quot;</td><td>&quot;H4&quot;</td><td>3.3</td><td>&quot;Found&quot;</td><td>1939</td><td>49.25</td><td>17.66667</td><td>&quot;(49.25, 17.666...</td></tr><tr><td>&quot;Zubkovsky&quot;</td><td>31357</td><td>&quot;Valid&quot;</td><td>&quot;L6&quot;</td><td>2167.0</td><td>&quot;Found&quot;</td><td>2003</td><td>49.78917</td><td>41.5046</td><td>&quot;(49.78917, 41....</td></tr><tr><td>&quot;Zulu Queen&quot;</td><td>30414</td><td>&quot;Valid&quot;</td><td>&quot;L3.7&quot;</td><td>200.0</td><td>&quot;Found&quot;</td><td>1976</td><td>33.98333</td><td>-115.68333</td><td>&quot;(33.98333, -11...</td></tr></tbody></table></div>"
      ],
      "text/plain": [
       "shape: (45716, 10)\n",
       "┌────────────┬───────┬──────────┬──────────────────────┬───┬──────┬──────────┬────────────┬────────────────────────┐\n",
       "│ name       ┆ id    ┆ nametype ┆ recclass             ┆ … ┆ year ┆ reclat   ┆ reclong    ┆ GeoLocation            │\n",
       "│ ---        ┆ ---   ┆ ---      ┆ ---                  ┆   ┆ ---  ┆ ---      ┆ ---        ┆ ---                    │\n",
       "│ str        ┆ i64   ┆ str      ┆ str                  ┆   ┆ i64  ┆ f64      ┆ f64        ┆ str                    │\n",
       "╞════════════╪═══════╪══════════╪══════════════════════╪═══╪══════╪══════════╪════════════╪════════════════════════╡\n",
       "│ Aachen     ┆ 1     ┆ Valid    ┆ L5                   ┆ … ┆ 1880 ┆ 50.775   ┆ 6.08333    ┆ (50.775, 6.08333)      │\n",
       "│ Aarhus     ┆ 2     ┆ Valid    ┆ H6                   ┆ … ┆ 1951 ┆ 56.18333 ┆ 10.23333   ┆ (56.18333, 10.23333)   │\n",
       "│ Abee       ┆ 6     ┆ Valid    ┆ EH4                  ┆ … ┆ 1952 ┆ 54.21667 ┆ -113.0     ┆ (54.21667, -113.0)     │\n",
       "│ Acapulco   ┆ 10    ┆ Valid    ┆ Acapulcoite          ┆ … ┆ 1976 ┆ 16.88333 ┆ -99.9      ┆ (16.88333, -99.9)      │\n",
       "│ …          ┆ …     ┆ …        ┆ …                    ┆ … ┆ …    ┆ …        ┆ …          ┆ …                      │\n",
       "│ Zinder     ┆ 30409 ┆ Valid    ┆ Pallasite, ungrouped ┆ … ┆ 1999 ┆ 13.78333 ┆ 8.96667    ┆ (13.78333, 8.96667)    │\n",
       "│ Zlin       ┆ 30410 ┆ Valid    ┆ H4                   ┆ … ┆ 1939 ┆ 49.25    ┆ 17.66667   ┆ (49.25, 17.66667)      │\n",
       "│ Zubkovsky  ┆ 31357 ┆ Valid    ┆ L6                   ┆ … ┆ 2003 ┆ 49.78917 ┆ 41.5046    ┆ (49.78917, 41.5046)    │\n",
       "│ Zulu Queen ┆ 30414 ┆ Valid    ┆ L3.7                 ┆ … ┆ 1976 ┆ 33.98333 ┆ -115.68333 ┆ (33.98333, -115.68333) │\n",
       "└────────────┴───────┴──────────┴──────────────────────┴───┴──────┴──────────┴────────────┴────────────────────────┘"
      ]
     },
     "execution_count": 3,
     "metadata": {},
     "output_type": "execute_result"
    }
   ],
   "source": [
    "df=pl.read_csv(r\"C:\\Users\\YOUNUS\\Downloads\\Meteorite_Landings.csv\\Meteorite_Landings.csv\")\n",
    "df"
   ]
  },
  {
   "cell_type": "code",
   "execution_count": 3,
   "id": "9d81c975",
   "metadata": {},
   "outputs": [
    {
     "data": {
      "text/html": [
       "<div><style>\n",
       ".dataframe > thead > tr > th,\n",
       ".dataframe > tbody > tr > td {\n",
       "  text-align: right;\n",
       "}\n",
       "</style>\n",
       "<small>shape: (5, 10)</small><table border=\"1\" class=\"dataframe\"><thead><tr><th>name</th><th>id</th><th>nametype</th><th>recclass</th><th>mass (g)</th><th>fall</th><th>year</th><th>reclat</th><th>reclong</th><th>GeoLocation</th></tr><tr><td>str</td><td>i64</td><td>str</td><td>str</td><td>f64</td><td>str</td><td>i64</td><td>f64</td><td>f64</td><td>str</td></tr></thead><tbody><tr><td>&quot;Aachen&quot;</td><td>1</td><td>&quot;Valid&quot;</td><td>&quot;L5&quot;</td><td>21.0</td><td>&quot;Fell&quot;</td><td>1880</td><td>50.775</td><td>6.08333</td><td>&quot;(50.775, 6.083...</td></tr><tr><td>&quot;Aarhus&quot;</td><td>2</td><td>&quot;Valid&quot;</td><td>&quot;H6&quot;</td><td>720.0</td><td>&quot;Fell&quot;</td><td>1951</td><td>56.18333</td><td>10.23333</td><td>&quot;(56.18333, 10....</td></tr><tr><td>&quot;Abee&quot;</td><td>6</td><td>&quot;Valid&quot;</td><td>&quot;EH4&quot;</td><td>107000.0</td><td>&quot;Fell&quot;</td><td>1952</td><td>54.21667</td><td>-113.0</td><td>&quot;(54.21667, -11...</td></tr><tr><td>&quot;Acapulco&quot;</td><td>10</td><td>&quot;Valid&quot;</td><td>&quot;Acapulcoite&quot;</td><td>1914.0</td><td>&quot;Fell&quot;</td><td>1976</td><td>16.88333</td><td>-99.9</td><td>&quot;(16.88333, -99...</td></tr><tr><td>&quot;Achiras&quot;</td><td>370</td><td>&quot;Valid&quot;</td><td>&quot;L6&quot;</td><td>780.0</td><td>&quot;Fell&quot;</td><td>1902</td><td>-33.16667</td><td>-64.95</td><td>&quot;(-33.16667, -6...</td></tr></tbody></table></div>"
      ],
      "text/plain": [
       "shape: (5, 10)\n",
       "┌──────────┬─────┬──────────┬─────────────┬───┬──────┬───────────┬──────────┬──────────────────────┐\n",
       "│ name     ┆ id  ┆ nametype ┆ recclass    ┆ … ┆ year ┆ reclat    ┆ reclong  ┆ GeoLocation          │\n",
       "│ ---      ┆ --- ┆ ---      ┆ ---         ┆   ┆ ---  ┆ ---       ┆ ---      ┆ ---                  │\n",
       "│ str      ┆ i64 ┆ str      ┆ str         ┆   ┆ i64  ┆ f64       ┆ f64      ┆ str                  │\n",
       "╞══════════╪═════╪══════════╪═════════════╪═══╪══════╪═══════════╪══════════╪══════════════════════╡\n",
       "│ Aachen   ┆ 1   ┆ Valid    ┆ L5          ┆ … ┆ 1880 ┆ 50.775    ┆ 6.08333  ┆ (50.775, 6.08333)    │\n",
       "│ Aarhus   ┆ 2   ┆ Valid    ┆ H6          ┆ … ┆ 1951 ┆ 56.18333  ┆ 10.23333 ┆ (56.18333, 10.23333) │\n",
       "│ Abee     ┆ 6   ┆ Valid    ┆ EH4         ┆ … ┆ 1952 ┆ 54.21667  ┆ -113.0   ┆ (54.21667, -113.0)   │\n",
       "│ Acapulco ┆ 10  ┆ Valid    ┆ Acapulcoite ┆ … ┆ 1976 ┆ 16.88333  ┆ -99.9    ┆ (16.88333, -99.9)    │\n",
       "│ Achiras  ┆ 370 ┆ Valid    ┆ L6          ┆ … ┆ 1902 ┆ -33.16667 ┆ -64.95   ┆ (-33.16667, -64.95)  │\n",
       "└──────────┴─────┴──────────┴─────────────┴───┴──────┴───────────┴──────────┴──────────────────────┘"
      ]
     },
     "execution_count": 3,
     "metadata": {},
     "output_type": "execute_result"
    }
   ],
   "source": [
    "df.head()"
   ]
  },
  {
   "cell_type": "code",
   "execution_count": 4,
   "id": "e161f1ab",
   "metadata": {},
   "outputs": [
    {
     "data": {
      "text/html": [
       "<div>\n",
       "<style scoped>\n",
       "    .dataframe tbody tr th:only-of-type {\n",
       "        vertical-align: middle;\n",
       "    }\n",
       "\n",
       "    .dataframe tbody tr th {\n",
       "        vertical-align: top;\n",
       "    }\n",
       "\n",
       "    .dataframe thead th {\n",
       "        text-align: right;\n",
       "    }\n",
       "</style>\n",
       "<table border=\"1\" class=\"dataframe\">\n",
       "  <thead>\n",
       "    <tr style=\"text-align: right;\">\n",
       "      <th></th>\n",
       "      <th>name</th>\n",
       "      <th>id</th>\n",
       "      <th>nametype</th>\n",
       "      <th>recclass</th>\n",
       "      <th>mass (g)</th>\n",
       "      <th>fall</th>\n",
       "      <th>year</th>\n",
       "      <th>reclat</th>\n",
       "      <th>reclong</th>\n",
       "      <th>GeoLocation</th>\n",
       "    </tr>\n",
       "  </thead>\n",
       "  <tbody>\n",
       "    <tr>\n",
       "      <th>0</th>\n",
       "      <td>Aachen</td>\n",
       "      <td>1</td>\n",
       "      <td>Valid</td>\n",
       "      <td>L5</td>\n",
       "      <td>21.0</td>\n",
       "      <td>Fell</td>\n",
       "      <td>1880</td>\n",
       "      <td>50.77500</td>\n",
       "      <td>6.08333</td>\n",
       "      <td>(50.775, 6.08333)</td>\n",
       "    </tr>\n",
       "    <tr>\n",
       "      <th>1</th>\n",
       "      <td>Aarhus</td>\n",
       "      <td>2</td>\n",
       "      <td>Valid</td>\n",
       "      <td>H6</td>\n",
       "      <td>720.0</td>\n",
       "      <td>Fell</td>\n",
       "      <td>1951</td>\n",
       "      <td>56.18333</td>\n",
       "      <td>10.23333</td>\n",
       "      <td>(56.18333, 10.23333)</td>\n",
       "    </tr>\n",
       "    <tr>\n",
       "      <th>2</th>\n",
       "      <td>Abee</td>\n",
       "      <td>6</td>\n",
       "      <td>Valid</td>\n",
       "      <td>EH4</td>\n",
       "      <td>107000.0</td>\n",
       "      <td>Fell</td>\n",
       "      <td>1952</td>\n",
       "      <td>54.21667</td>\n",
       "      <td>-113.00000</td>\n",
       "      <td>(54.21667, -113.0)</td>\n",
       "    </tr>\n",
       "    <tr>\n",
       "      <th>3</th>\n",
       "      <td>Acapulco</td>\n",
       "      <td>10</td>\n",
       "      <td>Valid</td>\n",
       "      <td>Acapulcoite</td>\n",
       "      <td>1914.0</td>\n",
       "      <td>Fell</td>\n",
       "      <td>1976</td>\n",
       "      <td>16.88333</td>\n",
       "      <td>-99.90000</td>\n",
       "      <td>(16.88333, -99.9)</td>\n",
       "    </tr>\n",
       "    <tr>\n",
       "      <th>4</th>\n",
       "      <td>Achiras</td>\n",
       "      <td>370</td>\n",
       "      <td>Valid</td>\n",
       "      <td>L6</td>\n",
       "      <td>780.0</td>\n",
       "      <td>Fell</td>\n",
       "      <td>1902</td>\n",
       "      <td>-33.16667</td>\n",
       "      <td>-64.95000</td>\n",
       "      <td>(-33.16667, -64.95)</td>\n",
       "    </tr>\n",
       "  </tbody>\n",
       "</table>\n",
       "</div>"
      ],
      "text/plain": [
       "       name   id nametype     recclass  mass (g)  fall  year    reclat  \\\n",
       "0    Aachen    1    Valid           L5      21.0  Fell  1880  50.77500   \n",
       "1    Aarhus    2    Valid           H6     720.0  Fell  1951  56.18333   \n",
       "2      Abee    6    Valid          EH4  107000.0  Fell  1952  54.21667   \n",
       "3  Acapulco   10    Valid  Acapulcoite    1914.0  Fell  1976  16.88333   \n",
       "4   Achiras  370    Valid           L6     780.0  Fell  1902 -33.16667   \n",
       "\n",
       "     reclong           GeoLocation  \n",
       "0    6.08333     (50.775, 6.08333)  \n",
       "1   10.23333  (56.18333, 10.23333)  \n",
       "2 -113.00000    (54.21667, -113.0)  \n",
       "3  -99.90000     (16.88333, -99.9)  \n",
       "4  -64.95000   (-33.16667, -64.95)  "
      ]
     },
     "execution_count": 4,
     "metadata": {},
     "output_type": "execute_result"
    }
   ],
   "source": [
    "df.head().to_pandas()"
   ]
  },
  {
   "cell_type": "code",
   "execution_count": 5,
   "id": "bde8fc7d",
   "metadata": {},
   "outputs": [
    {
     "data": {
      "text/html": [
       "<div><style>\n",
       ".dataframe > thead > tr > th,\n",
       ".dataframe > tbody > tr > td {\n",
       "  text-align: right;\n",
       "}\n",
       "</style>\n",
       "<small>shape: (1, 10)</small><table border=\"1\" class=\"dataframe\"><thead><tr><th>name</th><th>id</th><th>nametype</th><th>recclass</th><th>mass (g)</th><th>fall</th><th>year</th><th>reclat</th><th>reclong</th><th>GeoLocation</th></tr><tr><td>str</td><td>i64</td><td>str</td><td>str</td><td>f64</td><td>str</td><td>i64</td><td>f64</td><td>f64</td><td>str</td></tr></thead><tbody><tr><td>&quot;Aachen&quot;</td><td>1</td><td>&quot;Valid&quot;</td><td>&quot;L5&quot;</td><td>21.0</td><td>&quot;Fell&quot;</td><td>1880</td><td>50.775</td><td>6.08333</td><td>&quot;(50.775, 6.083...</td></tr></tbody></table></div>"
      ],
      "text/plain": [
       "shape: (1, 10)\n",
       "┌────────┬─────┬──────────┬──────────┬───┬──────┬────────┬─────────┬───────────────────┐\n",
       "│ name   ┆ id  ┆ nametype ┆ recclass ┆ … ┆ year ┆ reclat ┆ reclong ┆ GeoLocation       │\n",
       "│ ---    ┆ --- ┆ ---      ┆ ---      ┆   ┆ ---  ┆ ---    ┆ ---     ┆ ---               │\n",
       "│ str    ┆ i64 ┆ str      ┆ str      ┆   ┆ i64  ┆ f64    ┆ f64     ┆ str               │\n",
       "╞════════╪═════╪══════════╪══════════╪═══╪══════╪════════╪═════════╪═══════════════════╡\n",
       "│ Aachen ┆ 1   ┆ Valid    ┆ L5       ┆ … ┆ 1880 ┆ 50.775 ┆ 6.08333 ┆ (50.775, 6.08333) │\n",
       "└────────┴─────┴──────────┴──────────┴───┴──────┴────────┴─────────┴───────────────────┘"
      ]
     },
     "execution_count": 5,
     "metadata": {},
     "output_type": "execute_result"
    }
   ],
   "source": [
    "df[0,:]"
   ]
  },
  {
   "cell_type": "code",
   "execution_count": 12,
   "id": "ee60ac87",
   "metadata": {},
   "outputs": [
    {
     "data": {
      "text/html": [
       "<div><style>\n",
       ".dataframe > thead > tr > th,\n",
       ".dataframe > tbody > tr > td {\n",
       "  text-align: right;\n",
       "}\n",
       "</style>\n",
       "<small>shape: (45716, 2)</small><table border=\"1\" class=\"dataframe\"><thead><tr><th>name</th><th>mass (g)</th></tr><tr><td>str</td><td>f64</td></tr></thead><tbody><tr><td>&quot;Aachen&quot;</td><td>21.0</td></tr><tr><td>&quot;Aarhus&quot;</td><td>720.0</td></tr><tr><td>&quot;Abee&quot;</td><td>107000.0</td></tr><tr><td>&quot;Acapulco&quot;</td><td>1914.0</td></tr><tr><td>&quot;Achiras&quot;</td><td>780.0</td></tr><tr><td>&quot;Adhi Kot&quot;</td><td>4239.0</td></tr><tr><td>&quot;Adzhi-Bogdo (s...</td><td>910.0</td></tr><tr><td>&quot;Agen&quot;</td><td>30000.0</td></tr><tr><td>&quot;Aguada&quot;</td><td>1620.0</td></tr><tr><td>&quot;Aguila Blanca&quot;</td><td>1440.0</td></tr><tr><td>&quot;Aioun el Atrou...</td><td>1000.0</td></tr><tr><td>&quot;Aïr&quot;</td><td>24000.0</td></tr><tr><td>&hellip;</td><td>&hellip;</td></tr><tr><td>&quot;Zerga&quot;</td><td>76.0</td></tr><tr><td>&quot;Zerhamra&quot;</td><td>630000.0</td></tr><tr><td>&quot;Zerkaly&quot;</td><td>16000.0</td></tr><tr><td>&quot;Zhaoping&quot;</td><td>2e6</td></tr><tr><td>&quot;Zhigansk&quot;</td><td>900000.0</td></tr><tr><td>&quot;Zhongxiang&quot;</td><td>100000.0</td></tr><tr><td>&quot;Zillah 001&quot;</td><td>1475.0</td></tr><tr><td>&quot;Zillah 002&quot;</td><td>172.0</td></tr><tr><td>&quot;Zinder&quot;</td><td>46.0</td></tr><tr><td>&quot;Zlin&quot;</td><td>3.3</td></tr><tr><td>&quot;Zubkovsky&quot;</td><td>2167.0</td></tr><tr><td>&quot;Zulu Queen&quot;</td><td>200.0</td></tr></tbody></table></div>"
      ],
      "text/plain": [
       "shape: (45716, 2)\n",
       "┌────────────┬──────────┐\n",
       "│ name       ┆ mass (g) │\n",
       "│ ---        ┆ ---      │\n",
       "│ str        ┆ f64      │\n",
       "╞════════════╪══════════╡\n",
       "│ Aachen     ┆ 21.0     │\n",
       "│ Aarhus     ┆ 720.0    │\n",
       "│ Abee       ┆ 107000.0 │\n",
       "│ Acapulco   ┆ 1914.0   │\n",
       "│ …          ┆ …        │\n",
       "│ Zinder     ┆ 46.0     │\n",
       "│ Zlin       ┆ 3.3      │\n",
       "│ Zubkovsky  ┆ 2167.0   │\n",
       "│ Zulu Queen ┆ 200.0    │\n",
       "└────────────┴──────────┘"
      ]
     },
     "execution_count": 12,
     "metadata": {},
     "output_type": "execute_result"
    }
   ],
   "source": [
    "df[:,['name','mass (g)']]"
   ]
  },
  {
   "cell_type": "code",
   "execution_count": 14,
   "id": "479460eb",
   "metadata": {},
   "outputs": [
    {
     "data": {
      "text/html": [
       "<div><style>\n",
       ".dataframe > thead > tr > th,\n",
       ".dataframe > tbody > tr > td {\n",
       "  text-align: right;\n",
       "}\n",
       "</style>\n",
       "<small>shape: (10, 10)</small><table border=\"1\" class=\"dataframe\"><thead><tr><th>name</th><th>id</th><th>nametype</th><th>recclass</th><th>mass (g)</th><th>fall</th><th>year</th><th>reclat</th><th>reclong</th><th>GeoLocation</th></tr><tr><td>str</td><td>i64</td><td>str</td><td>str</td><td>f64</td><td>str</td><td>i64</td><td>f64</td><td>f64</td><td>str</td></tr></thead><tbody><tr><td>&quot;Dar al Gani 53...</td><td>6083</td><td>&quot;Valid&quot;</td><td>&quot;CV3&quot;</td><td>19.0</td><td>&quot;Found&quot;</td><td>1997</td><td>27.20017</td><td>16.35017</td><td>&quot;(27.20017, 16....</td></tr><tr><td>&quot;El Médano 136&quot;</td><td>56701</td><td>&quot;Valid&quot;</td><td>&quot;L5&quot;</td><td>57.0</td><td>&quot;Found&quot;</td><td>2011</td><td>-24.85</td><td>-70.53333</td><td>&quot;(-24.85, -70.5...</td></tr><tr><td>&quot;Dhofar 968&quot;</td><td>30545</td><td>&quot;Valid&quot;</td><td>&quot;H4&quot;</td><td>79.0</td><td>&quot;Found&quot;</td><td>2004</td><td>19.29667</td><td>54.9336</td><td>&quot;(19.29667, 54....</td></tr><tr><td>&quot;Grove Mountain...</td><td>50545</td><td>&quot;Valid&quot;</td><td>&quot;L6&quot;</td><td>21.64</td><td>&quot;Found&quot;</td><td>2006</td><td>-72.77972</td><td>75.30833</td><td>&quot;(-72.77972, 75...</td></tr><tr><td>&quot;MacAlpine Hill...</td><td>15200</td><td>&quot;Valid&quot;</td><td>&quot;L4&quot;</td><td>156.95</td><td>&quot;Found&quot;</td><td>2002</td><td>null</td><td>null</td><td>null</td></tr><tr><td>&quot;Graves Nunatak...</td><td>11084</td><td>&quot;Valid&quot;</td><td>&quot;H5&quot;</td><td>20.7</td><td>&quot;Found&quot;</td><td>1998</td><td>-86.71667</td><td>-141.5</td><td>&quot;(-86.71667, -1...</td></tr><tr><td>&quot;Grosvenor Moun...</td><td>46098</td><td>&quot;Valid&quot;</td><td>&quot;L5&quot;</td><td>199.3</td><td>&quot;Found&quot;</td><td>2006</td><td>null</td><td>null</td><td>null</td></tr><tr><td>&quot;Yamato 984044&quot;</td><td>40664</td><td>&quot;Valid&quot;</td><td>&quot;CM&quot;</td><td>62.16</td><td>&quot;Found&quot;</td><td>1998</td><td>0.0</td><td>0.0</td><td>&quot;(0.0, 0.0)&quot;</td></tr><tr><td>&quot;Grove Mountain...</td><td>50315</td><td>&quot;Valid&quot;</td><td>&quot;L5&quot;</td><td>12.58</td><td>&quot;Found&quot;</td><td>2006</td><td>-72.77917</td><td>75.32833</td><td>&quot;(-72.77917, 75...</td></tr><tr><td>&quot;Yamato 74661&quot;</td><td>25039</td><td>&quot;Valid&quot;</td><td>&quot;H6&quot;</td><td>5.31</td><td>&quot;Found&quot;</td><td>1974</td><td>-71.5</td><td>35.66667</td><td>&quot;(-71.5, 35.666...</td></tr></tbody></table></div>"
      ],
      "text/plain": [
       "shape: (10, 10)\n",
       "┌───────────────────────────┬───────┬──────────┬──────────┬───┬──────┬───────────┬───────────┬───────────────────────┐\n",
       "│ name                      ┆ id    ┆ nametype ┆ recclass ┆ … ┆ year ┆ reclat    ┆ reclong   ┆ GeoLocation           │\n",
       "│ ---                       ┆ ---   ┆ ---      ┆ ---      ┆   ┆ ---  ┆ ---       ┆ ---       ┆ ---                   │\n",
       "│ str                       ┆ i64   ┆ str      ┆ str      ┆   ┆ i64  ┆ f64       ┆ f64       ┆ str                   │\n",
       "╞═══════════════════════════╪═══════╪══════════╪══════════╪═══╪══════╪═══════════╪═══════════╪═══════════════════════╡\n",
       "│ Dar al Gani 535           ┆ 6083  ┆ Valid    ┆ CV3      ┆ … ┆ 1997 ┆ 27.20017  ┆ 16.35017  ┆ (27.20017, 16.35017)  │\n",
       "│ El Médano 136             ┆ 56701 ┆ Valid    ┆ L5       ┆ … ┆ 2011 ┆ -24.85    ┆ -70.53333 ┆ (-24.85, -70.53333)   │\n",
       "│ Dhofar 968                ┆ 30545 ┆ Valid    ┆ H4       ┆ … ┆ 2004 ┆ 19.29667  ┆ 54.9336   ┆ (19.29667, 54.9336)   │\n",
       "│ Grove Mountains 053542    ┆ 50545 ┆ Valid    ┆ L6       ┆ … ┆ 2006 ┆ -72.77972 ┆ 75.30833  ┆ (-72.77972, 75.30833) │\n",
       "│ …                         ┆ …     ┆ …        ┆ …        ┆ … ┆ …    ┆ …         ┆ …         ┆ …                     │\n",
       "│ Grosvenor Mountains 06061 ┆ 46098 ┆ Valid    ┆ L5       ┆ … ┆ 2006 ┆ null      ┆ null      ┆ null                  │\n",
       "│ Yamato 984044             ┆ 40664 ┆ Valid    ┆ CM       ┆ … ┆ 1998 ┆ 0.0       ┆ 0.0       ┆ (0.0, 0.0)            │\n",
       "│ Grove Mountains 051808    ┆ 50315 ┆ Valid    ┆ L5       ┆ … ┆ 2006 ┆ -72.77917 ┆ 75.32833  ┆ (-72.77917, 75.32833) │\n",
       "│ Yamato 74661              ┆ 25039 ┆ Valid    ┆ H6       ┆ … ┆ 1974 ┆ -71.5     ┆ 35.66667  ┆ (-71.5, 35.66667)     │\n",
       "└───────────────────────────┴───────┴──────────┴──────────┴───┴──────┴───────────┴───────────┴───────────────────────┘"
      ]
     },
     "execution_count": 14,
     "metadata": {},
     "output_type": "execute_result"
    }
   ],
   "source": [
    "df.sample(10)"
   ]
  },
  {
   "cell_type": "code",
   "execution_count": 15,
   "id": "73cabd31",
   "metadata": {},
   "outputs": [
    {
     "data": {
      "text/html": [
       "<div><style>\n",
       ".dataframe > thead > tr > th,\n",
       ".dataframe > tbody > tr > td {\n",
       "  text-align: right;\n",
       "}\n",
       "</style>\n",
       "<small>shape: (45716, 2)</small><table border=\"1\" class=\"dataframe\"><thead><tr><th>name</th><th>year</th></tr><tr><td>str</td><td>i64</td></tr></thead><tbody><tr><td>&quot;Aachen&quot;</td><td>1880</td></tr><tr><td>&quot;Aarhus&quot;</td><td>1951</td></tr><tr><td>&quot;Abee&quot;</td><td>1952</td></tr><tr><td>&quot;Acapulco&quot;</td><td>1976</td></tr><tr><td>&quot;Achiras&quot;</td><td>1902</td></tr><tr><td>&quot;Adhi Kot&quot;</td><td>1919</td></tr><tr><td>&quot;Adzhi-Bogdo (s...</td><td>1949</td></tr><tr><td>&quot;Agen&quot;</td><td>1814</td></tr><tr><td>&quot;Aguada&quot;</td><td>1930</td></tr><tr><td>&quot;Aguila Blanca&quot;</td><td>1920</td></tr><tr><td>&quot;Aioun el Atrou...</td><td>1974</td></tr><tr><td>&quot;Aïr&quot;</td><td>1925</td></tr><tr><td>&hellip;</td><td>&hellip;</td></tr><tr><td>&quot;Zerga&quot;</td><td>1973</td></tr><tr><td>&quot;Zerhamra&quot;</td><td>1967</td></tr><tr><td>&quot;Zerkaly&quot;</td><td>1956</td></tr><tr><td>&quot;Zhaoping&quot;</td><td>1983</td></tr><tr><td>&quot;Zhigansk&quot;</td><td>1966</td></tr><tr><td>&quot;Zhongxiang&quot;</td><td>1981</td></tr><tr><td>&quot;Zillah 001&quot;</td><td>1990</td></tr><tr><td>&quot;Zillah 002&quot;</td><td>1990</td></tr><tr><td>&quot;Zinder&quot;</td><td>1999</td></tr><tr><td>&quot;Zlin&quot;</td><td>1939</td></tr><tr><td>&quot;Zubkovsky&quot;</td><td>2003</td></tr><tr><td>&quot;Zulu Queen&quot;</td><td>1976</td></tr></tbody></table></div>"
      ],
      "text/plain": [
       "shape: (45716, 2)\n",
       "┌────────────┬──────┐\n",
       "│ name       ┆ year │\n",
       "│ ---        ┆ ---  │\n",
       "│ str        ┆ i64  │\n",
       "╞════════════╪══════╡\n",
       "│ Aachen     ┆ 1880 │\n",
       "│ Aarhus     ┆ 1951 │\n",
       "│ Abee       ┆ 1952 │\n",
       "│ Acapulco   ┆ 1976 │\n",
       "│ …          ┆ …    │\n",
       "│ Zinder     ┆ 1999 │\n",
       "│ Zlin       ┆ 1939 │\n",
       "│ Zubkovsky  ┆ 2003 │\n",
       "│ Zulu Queen ┆ 1976 │\n",
       "└────────────┴──────┘"
      ]
     },
     "execution_count": 15,
     "metadata": {},
     "output_type": "execute_result"
    }
   ],
   "source": [
    "df.select(['name','year'])"
   ]
  },
  {
   "cell_type": "code",
   "execution_count": 18,
   "id": "e5386542",
   "metadata": {},
   "outputs": [
    {
     "data": {
      "text/html": [
       "<div><style>\n",
       ".dataframe > thead > tr > th,\n",
       ".dataframe > tbody > tr > td {\n",
       "  text-align: right;\n",
       "}\n",
       "</style>\n",
       "<small>shape: (43700, 10)</small><table border=\"1\" class=\"dataframe\"><thead><tr><th>name</th><th>id</th><th>nametype</th><th>recclass</th><th>mass (g)</th><th>fall</th><th>year</th><th>reclat</th><th>reclong</th><th>GeoLocation</th></tr><tr><td>str</td><td>i64</td><td>str</td><td>str</td><td>f64</td><td>str</td><td>i64</td><td>f64</td><td>f64</td><td>str</td></tr></thead><tbody><tr><td>&quot;Aarhus&quot;</td><td>2</td><td>&quot;Valid&quot;</td><td>&quot;H6&quot;</td><td>720.0</td><td>&quot;Fell&quot;</td><td>1951</td><td>56.18333</td><td>10.23333</td><td>&quot;(56.18333, 10....</td></tr><tr><td>&quot;Abee&quot;</td><td>6</td><td>&quot;Valid&quot;</td><td>&quot;EH4&quot;</td><td>107000.0</td><td>&quot;Fell&quot;</td><td>1952</td><td>54.21667</td><td>-113.0</td><td>&quot;(54.21667, -11...</td></tr><tr><td>&quot;Acapulco&quot;</td><td>10</td><td>&quot;Valid&quot;</td><td>&quot;Acapulcoite&quot;</td><td>1914.0</td><td>&quot;Fell&quot;</td><td>1976</td><td>16.88333</td><td>-99.9</td><td>&quot;(16.88333, -99...</td></tr><tr><td>&quot;Aioun el Atrou...</td><td>423</td><td>&quot;Valid&quot;</td><td>&quot;Diogenite-pm&quot;</td><td>1000.0</td><td>&quot;Fell&quot;</td><td>1974</td><td>16.39806</td><td>-9.57028</td><td>&quot;(16.39806, -9....</td></tr><tr><td>&quot;Akwanga&quot;</td><td>432</td><td>&quot;Valid&quot;</td><td>&quot;H&quot;</td><td>3000.0</td><td>&quot;Fell&quot;</td><td>1959</td><td>8.91667</td><td>8.43333</td><td>&quot;(8.91667, 8.43...</td></tr><tr><td>&quot;Akyumak&quot;</td><td>433</td><td>&quot;Valid&quot;</td><td>&quot;Iron, IVA&quot;</td><td>50000.0</td><td>&quot;Fell&quot;</td><td>1981</td><td>39.91667</td><td>42.81667</td><td>&quot;(39.91667, 42....</td></tr><tr><td>&quot;Al Rais&quot;</td><td>446</td><td>&quot;Valid&quot;</td><td>&quot;CR2-an&quot;</td><td>160.0</td><td>&quot;Fell&quot;</td><td>1957</td><td>24.41667</td><td>39.51667</td><td>&quot;(24.41667, 39....</td></tr><tr><td>&quot;Al Zarnkh&quot;</td><td>447</td><td>&quot;Valid&quot;</td><td>&quot;LL5&quot;</td><td>700.0</td><td>&quot;Fell&quot;</td><td>2001</td><td>13.66033</td><td>28.96</td><td>&quot;(13.66033, 28....</td></tr><tr><td>&quot;Alby sur Chéra...</td><td>458</td><td>&quot;Valid&quot;</td><td>&quot;Eucrite-mmict&quot;</td><td>252.0</td><td>&quot;Fell&quot;</td><td>2002</td><td>45.82133</td><td>6.01533</td><td>&quot;(45.82133, 6.0...</td></tr><tr><td>&quot;Allende&quot;</td><td>2278</td><td>&quot;Valid&quot;</td><td>&quot;CV3&quot;</td><td>2e6</td><td>&quot;Fell&quot;</td><td>1969</td><td>26.96667</td><td>-105.31667</td><td>&quot;(26.96667, -10...</td></tr><tr><td>&quot;Almahata Sitta...</td><td>48915</td><td>&quot;Valid&quot;</td><td>&quot;Ureilite-an&quot;</td><td>3950.0</td><td>&quot;Fell&quot;</td><td>2008</td><td>20.74575</td><td>32.41275</td><td>&quot;(20.74575, 32....</td></tr><tr><td>&quot;Alta&#x27;ameem&quot;</td><td>2284</td><td>&quot;Valid&quot;</td><td>&quot;LL5&quot;</td><td>6000.0</td><td>&quot;Fell&quot;</td><td>1977</td><td>35.27333</td><td>44.21556</td><td>&quot;(35.27333, 44....</td></tr><tr><td>&hellip;</td><td>&hellip;</td><td>&hellip;</td><td>&hellip;</td><td>&hellip;</td><td>&hellip;</td><td>&hellip;</td><td>&hellip;</td><td>&hellip;</td><td>&hellip;</td></tr><tr><td>&quot;Zenda&quot;</td><td>30400</td><td>&quot;Valid&quot;</td><td>&quot;Iron, IAB comp...</td><td>3700.0</td><td>&quot;Found&quot;</td><td>1955</td><td>42.51333</td><td>-88.48944</td><td>&quot;(42.51333, -88...</td></tr><tr><td>&quot;Zerga&quot;</td><td>30402</td><td>&quot;Valid&quot;</td><td>&quot;LL6&quot;</td><td>76.0</td><td>&quot;Found&quot;</td><td>1973</td><td>20.25</td><td>-12.68333</td><td>&quot;(20.25, -12.68...</td></tr><tr><td>&quot;Zerhamra&quot;</td><td>30403</td><td>&quot;Valid&quot;</td><td>&quot;Iron, IIIAB-an...</td><td>630000.0</td><td>&quot;Found&quot;</td><td>1967</td><td>29.85861</td><td>-2.645</td><td>&quot;(29.85861, -2....</td></tr><tr><td>&quot;Zerkaly&quot;</td><td>31354</td><td>&quot;Valid&quot;</td><td>&quot;H5&quot;</td><td>16000.0</td><td>&quot;Found&quot;</td><td>1956</td><td>52.13333</td><td>81.96667</td><td>&quot;(52.13333, 81....</td></tr><tr><td>&quot;Zhaoping&quot;</td><td>54609</td><td>&quot;Valid&quot;</td><td>&quot;Iron, IAB comp...</td><td>2e6</td><td>&quot;Found&quot;</td><td>1983</td><td>24.23333</td><td>111.18333</td><td>&quot;(24.23333, 111...</td></tr><tr><td>&quot;Zhigansk&quot;</td><td>30405</td><td>&quot;Valid&quot;</td><td>&quot;Iron, IIIAB&quot;</td><td>900000.0</td><td>&quot;Found&quot;</td><td>1966</td><td>68.0</td><td>128.3</td><td>&quot;(68.0, 128.3)&quot;</td></tr><tr><td>&quot;Zhongxiang&quot;</td><td>30406</td><td>&quot;Valid&quot;</td><td>&quot;Iron&quot;</td><td>100000.0</td><td>&quot;Found&quot;</td><td>1981</td><td>31.2</td><td>112.5</td><td>&quot;(31.2, 112.5)&quot;</td></tr><tr><td>&quot;Zillah 001&quot;</td><td>31355</td><td>&quot;Valid&quot;</td><td>&quot;L6&quot;</td><td>1475.0</td><td>&quot;Found&quot;</td><td>1990</td><td>29.037</td><td>17.0185</td><td>&quot;(29.037, 17.01...</td></tr><tr><td>&quot;Zillah 002&quot;</td><td>31356</td><td>&quot;Valid&quot;</td><td>&quot;Eucrite&quot;</td><td>172.0</td><td>&quot;Found&quot;</td><td>1990</td><td>29.037</td><td>17.0185</td><td>&quot;(29.037, 17.01...</td></tr><tr><td>&quot;Zinder&quot;</td><td>30409</td><td>&quot;Valid&quot;</td><td>&quot;Pallasite, ung...</td><td>46.0</td><td>&quot;Found&quot;</td><td>1999</td><td>13.78333</td><td>8.96667</td><td>&quot;(13.78333, 8.9...</td></tr><tr><td>&quot;Zubkovsky&quot;</td><td>31357</td><td>&quot;Valid&quot;</td><td>&quot;L6&quot;</td><td>2167.0</td><td>&quot;Found&quot;</td><td>2003</td><td>49.78917</td><td>41.5046</td><td>&quot;(49.78917, 41....</td></tr><tr><td>&quot;Zulu Queen&quot;</td><td>30414</td><td>&quot;Valid&quot;</td><td>&quot;L3.7&quot;</td><td>200.0</td><td>&quot;Found&quot;</td><td>1976</td><td>33.98333</td><td>-115.68333</td><td>&quot;(33.98333, -11...</td></tr></tbody></table></div>"
      ],
      "text/plain": [
       "shape: (43700, 10)\n",
       "┌──────────────────┬───────┬──────────┬──────────────────────┬───┬──────┬──────────┬────────────┬──────────────────────┐\n",
       "│ name             ┆ id    ┆ nametype ┆ recclass             ┆ … ┆ year ┆ reclat   ┆ reclong    ┆ GeoLocation          │\n",
       "│ ---              ┆ ---   ┆ ---      ┆ ---                  ┆   ┆ ---  ┆ ---      ┆ ---        ┆ ---                  │\n",
       "│ str              ┆ i64   ┆ str      ┆ str                  ┆   ┆ i64  ┆ f64      ┆ f64        ┆ str                  │\n",
       "╞══════════════════╪═══════╪══════════╪══════════════════════╪═══╪══════╪══════════╪════════════╪══════════════════════╡\n",
       "│ Aarhus           ┆ 2     ┆ Valid    ┆ H6                   ┆ … ┆ 1951 ┆ 56.18333 ┆ 10.23333   ┆ (56.18333, 10.23333) │\n",
       "│ Abee             ┆ 6     ┆ Valid    ┆ EH4                  ┆ … ┆ 1952 ┆ 54.21667 ┆ -113.0     ┆ (54.21667, -113.0)   │\n",
       "│ Acapulco         ┆ 10    ┆ Valid    ┆ Acapulcoite          ┆ … ┆ 1976 ┆ 16.88333 ┆ -99.9      ┆ (16.88333, -99.9)    │\n",
       "│ Aioun el Atrouss ┆ 423   ┆ Valid    ┆ Diogenite-pm         ┆ … ┆ 1974 ┆ 16.39806 ┆ -9.57028   ┆ (16.39806, -9.57028) │\n",
       "│ …                ┆ …     ┆ …        ┆ …                    ┆ … ┆ …    ┆ …        ┆ …          ┆ …                    │\n",
       "│ Zillah 002       ┆ 31356 ┆ Valid    ┆ Eucrite              ┆ … ┆ 1990 ┆ 29.037   ┆ 17.0185    ┆ (29.037, 17.0185)    │\n",
       "│ Zinder           ┆ 30409 ┆ Valid    ┆ Pallasite, ungrouped ┆ … ┆ 1999 ┆ 13.78333 ┆ 8.96667    ┆ (13.78333, 8.96667)  │\n",
       "│ Zubkovsky        ┆ 31357 ┆ Valid    ┆ L6                   ┆ … ┆ 2003 ┆ 49.78917 ┆ 41.5046    ┆ (49.78917, 41.5046)  │\n",
       "│ Zulu Queen       ┆ 30414 ┆ Valid    ┆ L3.7                 ┆ … ┆ 1976 ┆ 33.98333 ┆ -115.68333 ┆ (33.98333,           │\n",
       "│                  ┆       ┆          ┆                      ┆   ┆      ┆          ┆            ┆ -115.68333)          │\n",
       "└──────────────────┴───────┴──────────┴──────────────────────┴───┴──────┴──────────┴────────────┴──────────────────────┘"
      ]
     },
     "execution_count": 18,
     "metadata": {},
     "output_type": "execute_result"
    }
   ],
   "source": [
    "df.filter(pl.col('year')>1950)"
   ]
  },
  {
   "cell_type": "code",
   "execution_count": 20,
   "id": "83cfdede",
   "metadata": {},
   "outputs": [
    {
     "data": {
      "text/html": [
       "<div><style>\n",
       ".dataframe > thead > tr > th,\n",
       ".dataframe > tbody > tr > td {\n",
       "  text-align: right;\n",
       "}\n",
       "</style>\n",
       "<small>shape: (38, 10)</small><table border=\"1\" class=\"dataframe\"><thead><tr><th>name</th><th>id</th><th>nametype</th><th>recclass</th><th>mass (g)</th><th>fall</th><th>year</th><th>reclat</th><th>reclong</th><th>GeoLocation</th></tr><tr><td>str</td><td>i64</td><td>str</td><td>str</td><td>f64</td><td>str</td><td>i64</td><td>f64</td><td>f64</td><td>str</td></tr></thead><tbody><tr><td>&quot;Aarhus&quot;</td><td>2</td><td>&quot;Valid&quot;</td><td>&quot;H6&quot;</td><td>720.0</td><td>&quot;Fell&quot;</td><td>1951</td><td>56.18333</td><td>10.23333</td><td>&quot;(56.18333, 10....</td></tr><tr><td>&quot;Dubrovnik&quot;</td><td>7736</td><td>&quot;Valid&quot;</td><td>&quot;L3-6&quot;</td><td>1900.0</td><td>&quot;Fell&quot;</td><td>1951</td><td>42.45833</td><td>18.44167</td><td>&quot;(42.45833, 18....</td></tr><tr><td>&quot;Elenovka&quot;</td><td>7824</td><td>&quot;Valid&quot;</td><td>&quot;L5&quot;</td><td>54640.0</td><td>&quot;Fell&quot;</td><td>1951</td><td>47.83333</td><td>37.66667</td><td>&quot;(47.83333, 37....</td></tr><tr><td>&quot;Kalaba&quot;</td><td>12232</td><td>&quot;Valid&quot;</td><td>&quot;H4&quot;</td><td>950.0</td><td>&quot;Fell&quot;</td><td>1951</td><td>-6.83333</td><td>29.5</td><td>&quot;(-6.83333, 29....</td></tr><tr><td>&quot;Lusaka&quot;</td><td>14759</td><td>&quot;Valid&quot;</td><td>&quot;Unknown&quot;</td><td>null</td><td>&quot;Fell&quot;</td><td>1951</td><td>-7.21667</td><td>29.43333</td><td>&quot;(-7.21667, 29....</td></tr><tr><td>&quot;Manych&quot;</td><td>15409</td><td>&quot;Valid&quot;</td><td>&quot;LL3.4&quot;</td><td>3555.0</td><td>&quot;Fell&quot;</td><td>1951</td><td>45.81667</td><td>44.63333</td><td>&quot;(45.81667, 44....</td></tr><tr><td>&quot;Okabe&quot;</td><td>17998</td><td>&quot;Valid&quot;</td><td>&quot;H5&quot;</td><td>194.0</td><td>&quot;Fell&quot;</td><td>1958</td><td>36.18333</td><td>139.21667</td><td>&quot;(36.18333, 139...</td></tr><tr><td>&quot;Ramsdorf&quot;</td><td>22386</td><td>&quot;Valid&quot;</td><td>&quot;L6&quot;</td><td>4682.0</td><td>&quot;Fell&quot;</td><td>1958</td><td>51.88333</td><td>6.93333</td><td>&quot;(51.88333, 6.9...</td></tr><tr><td>&quot;Yambo&quot;</td><td>30345</td><td>&quot;Valid&quot;</td><td>&quot;H5&quot;</td><td>4.0</td><td>&quot;Fell&quot;</td><td>1951</td><td>1.0</td><td>22.5</td><td>&quot;(1.0, 22.5)&quot;</td></tr><tr><td>&quot;Abbott&quot;</td><td>5</td><td>&quot;Valid&quot;</td><td>&quot;H3-6&quot;</td><td>21100.0</td><td>&quot;Found&quot;</td><td>1951</td><td>36.3</td><td>-104.28333</td><td>&quot;(36.3, -104.28...</td></tr><tr><td>&quot;Belmont&quot;</td><td>5008</td><td>&quot;Valid&quot;</td><td>&quot;H6&quot;</td><td>25300.0</td><td>&quot;Found&quot;</td><td>1958</td><td>42.73333</td><td>-90.35</td><td>&quot;(42.73333, -90...</td></tr><tr><td>&quot;Benthullen&quot;</td><td>5025</td><td>&quot;Valid&quot;</td><td>&quot;L6&quot;</td><td>17000.0</td><td>&quot;Found&quot;</td><td>1951</td><td>53.05</td><td>8.1</td><td>&quot;(53.05, 8.1)&quot;</td></tr><tr><td>&hellip;</td><td>&hellip;</td><td>&hellip;</td><td>&hellip;</td><td>&hellip;</td><td>&hellip;</td><td>&hellip;</td><td>&hellip;</td><td>&hellip;</td><td>&hellip;</td></tr><tr><td>&quot;Massenya&quot;</td><td>15442</td><td>&quot;Valid&quot;</td><td>&quot;H5&quot;</td><td>612.4</td><td>&quot;Found&quot;</td><td>1958</td><td>11.35</td><td>16.15</td><td>&quot;(11.35, 16.15)...</td></tr><tr><td>&quot;Nantan&quot;</td><td>16906</td><td>&quot;Valid&quot;</td><td>&quot;Iron, IAB-MG&quot;</td><td>9.5e6</td><td>&quot;Found&quot;</td><td>1958</td><td>25.1</td><td>107.7</td><td>&quot;(25.1, 107.7)&quot;</td></tr><tr><td>&quot;Richland&quot;</td><td>22601</td><td>&quot;Valid&quot;</td><td>&quot;Iron, IIAB&quot;</td><td>50600.0</td><td>&quot;Found&quot;</td><td>1951</td><td>31.9</td><td>-96.4</td><td>&quot;(31.9, -96.4)&quot;</td></tr><tr><td>&quot;Ridgecrest&quot;</td><td>22604</td><td>&quot;Valid&quot;</td><td>&quot;H5&quot;</td><td>9.69</td><td>&quot;Found&quot;</td><td>1958</td><td>35.58333</td><td>-117.56667</td><td>&quot;(35.58333, -11...</td></tr><tr><td>&quot;Santiago Papas...</td><td>23169</td><td>&quot;Valid&quot;</td><td>&quot;Iron, ungroupe...</td><td>119500.0</td><td>&quot;Found&quot;</td><td>1958</td><td>24.5</td><td>-106.0</td><td>&quot;(24.5, -106.0)...</td></tr><tr><td>&quot;Sombrerete&quot;</td><td>23664</td><td>&quot;Valid&quot;</td><td>&quot;Iron, IAB-sHL&quot;</td><td>10000.0</td><td>&quot;Found&quot;</td><td>1958</td><td>23.63333</td><td>-103.66667</td><td>&quot;(23.63333, -10...</td></tr><tr><td>&quot;South Oman&quot;</td><td>23679</td><td>&quot;Valid&quot;</td><td>&quot;EH4/5&quot;</td><td>90.0</td><td>&quot;Found&quot;</td><td>1958</td><td>21.0</td><td>56.66667</td><td>&quot;(21.0, 56.6666...</td></tr><tr><td>&quot;Tafoya (a)&quot;</td><td>23780</td><td>&quot;Valid&quot;</td><td>&quot;H4&quot;</td><td>270.0</td><td>&quot;Found&quot;</td><td>1951</td><td>36.45</td><td>-104.1</td><td>&quot;(36.45, -104.1...</td></tr><tr><td>&quot;Tafoya (b)&quot;</td><td>23781</td><td>&quot;Valid&quot;</td><td>&quot;H5&quot;</td><td>490.0</td><td>&quot;Found&quot;</td><td>1951</td><td>36.45</td><td>-104.1</td><td>&quot;(36.45, -104.1...</td></tr><tr><td>&quot;Wedderburn&quot;</td><td>24229</td><td>&quot;Valid&quot;</td><td>&quot;Iron, IAB-sLH&quot;</td><td>210.0</td><td>&quot;Found&quot;</td><td>1951</td><td>-36.43333</td><td>143.63333</td><td>&quot;(-36.43333, 14...</td></tr><tr><td>&quot;Willowdale&quot;</td><td>24279</td><td>&quot;Valid&quot;</td><td>&quot;H4&quot;</td><td>3000.0</td><td>&quot;Found&quot;</td><td>1951</td><td>37.53333</td><td>-98.36667</td><td>&quot;(37.53333, -98...</td></tr><tr><td>&quot;Wingellina&quot;</td><td>24284</td><td>&quot;Valid&quot;</td><td>&quot;H4&quot;</td><td>200.0</td><td>&quot;Found&quot;</td><td>1958</td><td>-26.05</td><td>128.95</td><td>&quot;(-26.05, 128.9...</td></tr></tbody></table></div>"
      ],
      "text/plain": [
       "shape: (38, 10)\n",
       "┌────────────┬───────┬──────────┬───────────────┬───┬──────┬───────────┬───────────┬────────────────────────┐\n",
       "│ name       ┆ id    ┆ nametype ┆ recclass      ┆ … ┆ year ┆ reclat    ┆ reclong   ┆ GeoLocation            │\n",
       "│ ---        ┆ ---   ┆ ---      ┆ ---           ┆   ┆ ---  ┆ ---       ┆ ---       ┆ ---                    │\n",
       "│ str        ┆ i64   ┆ str      ┆ str           ┆   ┆ i64  ┆ f64       ┆ f64       ┆ str                    │\n",
       "╞════════════╪═══════╪══════════╪═══════════════╪═══╪══════╪═══════════╪═══════════╪════════════════════════╡\n",
       "│ Aarhus     ┆ 2     ┆ Valid    ┆ H6            ┆ … ┆ 1951 ┆ 56.18333  ┆ 10.23333  ┆ (56.18333, 10.23333)   │\n",
       "│ Dubrovnik  ┆ 7736  ┆ Valid    ┆ L3-6          ┆ … ┆ 1951 ┆ 42.45833  ┆ 18.44167  ┆ (42.45833, 18.44167)   │\n",
       "│ Elenovka   ┆ 7824  ┆ Valid    ┆ L5            ┆ … ┆ 1951 ┆ 47.83333  ┆ 37.66667  ┆ (47.83333, 37.66667)   │\n",
       "│ Kalaba     ┆ 12232 ┆ Valid    ┆ H4            ┆ … ┆ 1951 ┆ -6.83333  ┆ 29.5      ┆ (-6.83333, 29.5)       │\n",
       "│ …          ┆ …     ┆ …        ┆ …             ┆ … ┆ …    ┆ …         ┆ …         ┆ …                      │\n",
       "│ Tafoya (b) ┆ 23781 ┆ Valid    ┆ H5            ┆ … ┆ 1951 ┆ 36.45     ┆ -104.1    ┆ (36.45, -104.1)        │\n",
       "│ Wedderburn ┆ 24229 ┆ Valid    ┆ Iron, IAB-sLH ┆ … ┆ 1951 ┆ -36.43333 ┆ 143.63333 ┆ (-36.43333, 143.63333) │\n",
       "│ Willowdale ┆ 24279 ┆ Valid    ┆ H4            ┆ … ┆ 1951 ┆ 37.53333  ┆ -98.36667 ┆ (37.53333, -98.36667)  │\n",
       "│ Wingellina ┆ 24284 ┆ Valid    ┆ H4            ┆ … ┆ 1958 ┆ -26.05    ┆ 128.95    ┆ (-26.05, 128.95)       │\n",
       "└────────────┴───────┴──────────┴───────────────┴───┴──────┴───────────┴───────────┴────────────────────────┘"
      ]
     },
     "execution_count": 20,
     "metadata": {},
     "output_type": "execute_result"
    }
   ],
   "source": [
    "df.filter(pl.col('year').is_in([1951,1958]))"
   ]
  },
  {
   "cell_type": "code",
   "execution_count": 21,
   "id": "d08a5cfd",
   "metadata": {},
   "outputs": [
    {
     "data": {
      "text/html": [
       "<div><style>\n",
       ".dataframe > thead > tr > th,\n",
       ".dataframe > tbody > tr > td {\n",
       "  text-align: right;\n",
       "}\n",
       "</style>\n",
       "<small>shape: (1, 1)</small><table border=\"1\" class=\"dataframe\"><thead><tr><th>year</th></tr><tr><td>u32</td></tr></thead><tbody><tr><td>266</td></tr></tbody></table></div>"
      ],
      "text/plain": [
       "shape: (1, 1)\n",
       "┌──────┐\n",
       "│ year │\n",
       "│ ---  │\n",
       "│ u32  │\n",
       "╞══════╡\n",
       "│ 266  │\n",
       "└──────┘"
      ]
     },
     "execution_count": 21,
     "metadata": {},
     "output_type": "execute_result"
    }
   ],
   "source": [
    "df.select(pl.col('year').n_unique())"
   ]
  },
  {
   "cell_type": "code",
   "execution_count": 22,
   "id": "e2f15d97",
   "metadata": {},
   "outputs": [
    {
     "data": {
      "text/html": [
       "<div><style>\n",
       ".dataframe > thead > tr > th,\n",
       ".dataframe > tbody > tr > td {\n",
       "  text-align: right;\n",
       "}\n",
       "</style>\n",
       "<small>shape: (1, 1)</small><table border=\"1\" class=\"dataframe\"><thead><tr><th>min year</th></tr><tr><td>i64</td></tr></thead><tbody><tr><td>860</td></tr></tbody></table></div>"
      ],
      "text/plain": [
       "shape: (1, 1)\n",
       "┌──────────┐\n",
       "│ min year │\n",
       "│ ---      │\n",
       "│ i64      │\n",
       "╞══════════╡\n",
       "│ 860      │\n",
       "└──────────┘"
      ]
     },
     "execution_count": 22,
     "metadata": {},
     "output_type": "execute_result"
    }
   ],
   "source": [
    "df.select(pl.col('year').min().alias('min year'))"
   ]
  },
  {
   "cell_type": "code",
   "execution_count": 23,
   "id": "37530a64",
   "metadata": {},
   "outputs": [
    {
     "data": {
      "text/html": [
       "<div><style>\n",
       ".dataframe > thead > tr > th,\n",
       ".dataframe > tbody > tr > td {\n",
       "  text-align: right;\n",
       "}\n",
       "</style>\n",
       "<small>shape: (7, 11)</small><table border=\"1\" class=\"dataframe\"><thead><tr><th>describe</th><th>name</th><th>id</th><th>nametype</th><th>recclass</th><th>mass (g)</th><th>fall</th><th>year</th><th>reclat</th><th>reclong</th><th>GeoLocation</th></tr><tr><td>str</td><td>str</td><td>f64</td><td>str</td><td>str</td><td>f64</td><td>str</td><td>f64</td><td>f64</td><td>f64</td><td>str</td></tr></thead><tbody><tr><td>&quot;count&quot;</td><td>&quot;45716&quot;</td><td>45716.0</td><td>&quot;45716&quot;</td><td>&quot;45716&quot;</td><td>45716.0</td><td>&quot;45716&quot;</td><td>45716.0</td><td>45716.0</td><td>45716.0</td><td>&quot;45716&quot;</td></tr><tr><td>&quot;null_count&quot;</td><td>&quot;0&quot;</td><td>0.0</td><td>&quot;0&quot;</td><td>&quot;0&quot;</td><td>131.0</td><td>&quot;0&quot;</td><td>291.0</td><td>7315.0</td><td>7315.0</td><td>&quot;7315&quot;</td></tr><tr><td>&quot;mean&quot;</td><td>null</td><td>26889.735104</td><td>null</td><td>null</td><td>13278.078549</td><td>null</td><td>1991.828817</td><td>-39.12258</td><td>61.074319</td><td>null</td></tr><tr><td>&quot;std&quot;</td><td>null</td><td>16860.68303</td><td>null</td><td>null</td><td>574988.87641</td><td>null</td><td>25.052766</td><td>46.378511</td><td>80.647298</td><td>null</td></tr><tr><td>&quot;min&quot;</td><td>&quot;Aachen&quot;</td><td>1.0</td><td>&quot;Relict&quot;</td><td>&quot;Acapulcoite&quot;</td><td>0.0</td><td>&quot;Fell&quot;</td><td>860.0</td><td>-87.36667</td><td>-165.43333</td><td>&quot;(-1.00278, 37....</td></tr><tr><td>&quot;max&quot;</td><td>&quot;Święcany&quot;</td><td>57458.0</td><td>&quot;Valid&quot;</td><td>&quot;Winonaite&quot;</td><td>6e7</td><td>&quot;Found&quot;</td><td>2101.0</td><td>81.16667</td><td>354.47333</td><td>&quot;(9.91667, 13.9...</td></tr><tr><td>&quot;median&quot;</td><td>null</td><td>24261.5</td><td>null</td><td>null</td><td>32.6</td><td>null</td><td>1998.0</td><td>-71.5</td><td>35.66667</td><td>null</td></tr></tbody></table></div>"
      ],
      "text/plain": [
       "shape: (7, 11)\n",
       "┌────────────┬──────────┬──────────────┬──────────┬───┬─────────────┬───────────┬────────────┬──────────────────────┐\n",
       "│ describe   ┆ name     ┆ id           ┆ nametype ┆ … ┆ year        ┆ reclat    ┆ reclong    ┆ GeoLocation          │\n",
       "│ ---        ┆ ---      ┆ ---          ┆ ---      ┆   ┆ ---         ┆ ---       ┆ ---        ┆ ---                  │\n",
       "│ str        ┆ str      ┆ f64          ┆ str      ┆   ┆ f64         ┆ f64       ┆ f64        ┆ str                  │\n",
       "╞════════════╪══════════╪══════════════╪══════════╪═══╪═════════════╪═══════════╪════════════╪══════════════════════╡\n",
       "│ count      ┆ 45716    ┆ 45716.0      ┆ 45716    ┆ … ┆ 45716.0     ┆ 45716.0   ┆ 45716.0    ┆ 45716                │\n",
       "│ null_count ┆ 0        ┆ 0.0          ┆ 0        ┆ … ┆ 291.0       ┆ 7315.0    ┆ 7315.0     ┆ 7315                 │\n",
       "│ mean       ┆ null     ┆ 26889.735104 ┆ null     ┆ … ┆ 1991.828817 ┆ -39.12258 ┆ 61.074319  ┆ null                 │\n",
       "│ std        ┆ null     ┆ 16860.68303  ┆ null     ┆ … ┆ 25.052766   ┆ 46.378511 ┆ 80.647298  ┆ null                 │\n",
       "│ min        ┆ Aachen   ┆ 1.0          ┆ Relict   ┆ … ┆ 860.0       ┆ -87.36667 ┆ -165.43333 ┆ (-1.00278, 37.15028) │\n",
       "│ max        ┆ Święcany ┆ 57458.0      ┆ Valid    ┆ … ┆ 2101.0      ┆ 81.16667  ┆ 354.47333  ┆ (9.91667, 13.98333)  │\n",
       "│ median     ┆ null     ┆ 24261.5      ┆ null     ┆ … ┆ 1998.0      ┆ -71.5     ┆ 35.66667   ┆ null                 │\n",
       "└────────────┴──────────┴──────────────┴──────────┴───┴─────────────┴───────────┴────────────┴──────────────────────┘"
      ]
     },
     "execution_count": 23,
     "metadata": {},
     "output_type": "execute_result"
    }
   ],
   "source": [
    "df.describe()"
   ]
  },
  {
   "cell_type": "code",
   "execution_count": 27,
   "id": "aeb2e20e",
   "metadata": {},
   "outputs": [
    {
     "data": {
      "text/html": [
       "<div><style>\n",
       ".dataframe > thead > tr > th,\n",
       ".dataframe > tbody > tr > td {\n",
       "  text-align: right;\n",
       "}\n",
       "</style>\n",
       "<small>shape: (7, 2)</small><table border=\"1\" class=\"dataframe\"><thead><tr><th>describe</th><th>year</th></tr><tr><td>str</td><td>f64</td></tr></thead><tbody><tr><td>&quot;count&quot;</td><td>45716.0</td></tr><tr><td>&quot;null_count&quot;</td><td>291.0</td></tr><tr><td>&quot;mean&quot;</td><td>1991.828817</td></tr><tr><td>&quot;std&quot;</td><td>25.052766</td></tr><tr><td>&quot;min&quot;</td><td>860.0</td></tr><tr><td>&quot;max&quot;</td><td>2101.0</td></tr><tr><td>&quot;median&quot;</td><td>1998.0</td></tr></tbody></table></div>"
      ],
      "text/plain": [
       "shape: (7, 2)\n",
       "┌────────────┬─────────────┐\n",
       "│ describe   ┆ year        │\n",
       "│ ---        ┆ ---         │\n",
       "│ str        ┆ f64         │\n",
       "╞════════════╪═════════════╡\n",
       "│ count      ┆ 45716.0     │\n",
       "│ null_count ┆ 291.0       │\n",
       "│ mean       ┆ 1991.828817 │\n",
       "│ std        ┆ 25.052766   │\n",
       "│ min        ┆ 860.0       │\n",
       "│ max        ┆ 2101.0      │\n",
       "│ median     ┆ 1998.0      │\n",
       "└────────────┴─────────────┘"
      ]
     },
     "execution_count": 27,
     "metadata": {},
     "output_type": "execute_result"
    }
   ],
   "source": [
    "df.select(pl.col('year')).describe()"
   ]
  },
  {
   "cell_type": "code",
   "execution_count": 29,
   "id": "42ba218d",
   "metadata": {},
   "outputs": [
    {
     "data": {
      "text/html": [
       "<div><style>\n",
       ".dataframe > thead > tr > th,\n",
       ".dataframe > tbody > tr > td {\n",
       "  text-align: right;\n",
       "}\n",
       "</style>\n",
       "<small>shape: (1, 10)</small><table border=\"1\" class=\"dataframe\"><thead><tr><th>name</th><th>id</th><th>nametype</th><th>recclass</th><th>mass (g)</th><th>fall</th><th>year</th><th>reclat</th><th>reclong</th><th>GeoLocation</th></tr><tr><td>str</td><td>i64</td><td>str</td><td>str</td><td>f64</td><td>str</td><td>i64</td><td>f64</td><td>f64</td><td>str</td></tr></thead><tbody><tr><td>&quot;Northwest Afri...</td><td>57150</td><td>&quot;Valid&quot;</td><td>&quot;CK6&quot;</td><td>55.0</td><td>&quot;Found&quot;</td><td>2101</td><td>0.0</td><td>0.0</td><td>&quot;(0.0, 0.0)&quot;</td></tr></tbody></table></div>"
      ],
      "text/plain": [
       "shape: (1, 10)\n",
       "┌───────────────────────┬───────┬──────────┬──────────┬───┬──────┬────────┬─────────┬─────────────┐\n",
       "│ name                  ┆ id    ┆ nametype ┆ recclass ┆ … ┆ year ┆ reclat ┆ reclong ┆ GeoLocation │\n",
       "│ ---                   ┆ ---   ┆ ---      ┆ ---      ┆   ┆ ---  ┆ ---    ┆ ---     ┆ ---         │\n",
       "│ str                   ┆ i64   ┆ str      ┆ str      ┆   ┆ i64  ┆ f64    ┆ f64     ┆ str         │\n",
       "╞═══════════════════════╪═══════╪══════════╪══════════╪═══╪══════╪════════╪═════════╪═════════════╡\n",
       "│ Northwest Africa 7701 ┆ 57150 ┆ Valid    ┆ CK6      ┆ … ┆ 2101 ┆ 0.0    ┆ 0.0     ┆ (0.0, 0.0)  │\n",
       "└───────────────────────┴───────┴──────────┴──────────┴───┴──────┴────────┴─────────┴─────────────┘"
      ]
     },
     "execution_count": 29,
     "metadata": {},
     "output_type": "execute_result"
    }
   ],
   "source": [
    "df.filter(pl.col('year')==2101)  # year 2101???"
   ]
  },
  {
   "cell_type": "code",
   "execution_count": 5,
   "id": "afccc123",
   "metadata": {},
   "outputs": [
    {
     "name": "stdout",
     "output_type": "stream",
     "text": [
      "[[<AxesSubplot:title={'center':'year'}>]]\n"
     ]
    },
    {
     "data": {
      "image/png": "[encoded data removed]",
      "text/plain": [
       "<Figure size 432x288 with 1 Axes>"
      ]
     },
     "metadata": {
      "needs_background": "light"
     },
     "output_type": "display_data"
    }
   ],
   "source": [
    "years=df.select(pl.col('year'))\n",
    "print(years.sample(10).to_pandas().hist(bins=30))"
   ]
  }
 ],
 "metadata": {
  "kernelspec": {
   "display_name": "Python 3 (ipykernel)",
   "language": "python",
   "name": "python3"
  },
  "language_info": {
   "codemirror_mode": {
    "name": "ipython",
    "version": 3
   },
   "file_extension": ".py",
   "mimetype": "text/x-python",
   "name": "python",
   "nbconvert_exporter": "python",
   "pygments_lexer": "ipython3",
   "version": "3.9.12"
  }
 },
 "nbformat": 4,
 "nbformat_minor": 5
}
